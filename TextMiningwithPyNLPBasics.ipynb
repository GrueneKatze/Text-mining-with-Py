{
 "cells": [
  {
   "cell_type": "markdown",
   "metadata": {},
   "source": [
    "# Module 2 (Python 3)"
   ]
  },
  {
   "cell_type": "markdown",
   "metadata": {},
   "source": [
    "## Basic NLP Tasks with NLTK"
   ]
  },
  {
   "cell_type": "code",
   "execution_count": 1,
   "metadata": {},
   "outputs": [
    {
     "name": "stdout",
     "output_type": "stream",
     "text": [
      "*** Introductory Examples for the NLTK Book ***\n",
      "Loading text1, ..., text9 and sent1, ..., sent9\n",
      "Type the name of the text or sentence to view it.\n",
      "Type: 'texts()' or 'sents()' to list the materials.\n",
      "text1: Moby Dick by Herman Melville 1851\n",
      "text2: Sense and Sensibility by Jane Austen 1811\n",
      "text3: The Book of Genesis\n",
      "text4: Inaugural Address Corpus\n",
      "text5: Chat Corpus\n",
      "text6: Monty Python and the Holy Grail\n",
      "text7: Wall Street Journal\n",
      "text8: Personals Corpus\n",
      "text9: The Man Who Was Thursday by G . K . Chesterton 1908\n"
     ]
    }
   ],
   "source": [
    "import nltk\n",
    "from nltk.book import *"
   ]
  },
  {
   "cell_type": "markdown",
   "metadata": {},
   "source": [
    "### Counting vocabulary of words"
   ]
  },
  {
   "cell_type": "code",
   "execution_count": 2,
   "metadata": {},
   "outputs": [
    {
     "data": {
      "text/plain": [
       "<Text: Wall Street Journal>"
      ]
     },
     "execution_count": 2,
     "metadata": {},
     "output_type": "execute_result"
    }
   ],
   "source": [
    "text7"
   ]
  },
  {
   "cell_type": "code",
   "execution_count": 3,
   "metadata": {},
   "outputs": [
    {
     "data": {
      "text/plain": [
       "['Pierre',\n",
       " 'Vinken',\n",
       " ',',\n",
       " '61',\n",
       " 'years',\n",
       " 'old',\n",
       " ',',\n",
       " 'will',\n",
       " 'join',\n",
       " 'the',\n",
       " 'board',\n",
       " 'as',\n",
       " 'a',\n",
       " 'nonexecutive',\n",
       " 'director',\n",
       " 'Nov.',\n",
       " '29',\n",
       " '.']"
      ]
     },
     "execution_count": 3,
     "metadata": {},
     "output_type": "execute_result"
    }
   ],
   "source": [
    "sent7"
   ]
  },
  {
   "cell_type": "code",
   "execution_count": 4,
   "metadata": {},
   "outputs": [
    {
     "data": {
      "text/plain": [
       "18"
      ]
     },
     "execution_count": 4,
     "metadata": {},
     "output_type": "execute_result"
    }
   ],
   "source": [
    "len(sent7)"
   ]
  },
  {
   "cell_type": "code",
   "execution_count": 5,
   "metadata": {},
   "outputs": [
    {
     "data": {
      "text/plain": [
       "100676"
      ]
     },
     "execution_count": 5,
     "metadata": {},
     "output_type": "execute_result"
    }
   ],
   "source": [
    "len(text7)"
   ]
  },
  {
   "cell_type": "code",
   "execution_count": 6,
   "metadata": {},
   "outputs": [
    {
     "data": {
      "text/plain": [
       "12408"
      ]
     },
     "execution_count": 6,
     "metadata": {},
     "output_type": "execute_result"
    }
   ],
   "source": [
    "len(set(text7))"
   ]
  },
  {
   "cell_type": "code",
   "execution_count": 7,
   "metadata": {},
   "outputs": [
    {
     "data": {
      "text/plain": [
       "['continental',\n",
       " \"'d\",\n",
       " 'Jones',\n",
       " 'aim',\n",
       " 'Atlantic',\n",
       " 'black-and-white',\n",
       " 'Another',\n",
       " 'Science',\n",
       " 'dismiss',\n",
       " 'so']"
      ]
     },
     "execution_count": 7,
     "metadata": {},
     "output_type": "execute_result"
    }
   ],
   "source": [
    "list(set(text7))[:10]"
   ]
  },
  {
   "cell_type": "markdown",
   "metadata": {},
   "source": [
    "### Frequency of words"
   ]
  },
  {
   "cell_type": "code",
   "execution_count": 4,
   "metadata": {},
   "outputs": [
    {
     "data": {
      "text/plain": [
       "12408"
      ]
     },
     "execution_count": 4,
     "metadata": {},
     "output_type": "execute_result"
    }
   ],
   "source": [
    "dist = FreqDist(text7)\n",
    "len(dist)"
   ]
  },
  {
   "cell_type": "code",
   "execution_count": 10,
   "metadata": {},
   "outputs": [
    {
     "data": {
      "text/plain": [
       "['Pierre',\n",
       " 'Vinken',\n",
       " ',',\n",
       " '61',\n",
       " 'years',\n",
       " 'old',\n",
       " 'will',\n",
       " 'join',\n",
       " 'the',\n",
       " 'board',\n",
       " 'as',\n",
       " 'a',\n",
       " 'nonexecutive',\n",
       " 'director',\n",
       " 'Nov.',\n",
       " '29',\n",
       " '.',\n",
       " 'Mr.',\n",
       " 'is',\n",
       " 'chairman',\n",
       " 'of',\n",
       " 'Elsevier',\n",
       " 'N.V.',\n",
       " 'Dutch',\n",
       " 'publishing',\n",
       " 'group',\n",
       " 'Rudolph',\n",
       " 'Agnew',\n",
       " '55',\n",
       " 'and',\n",
       " 'former',\n",
       " 'Consolidated',\n",
       " 'Gold',\n",
       " 'Fields',\n",
       " 'PLC',\n",
       " 'was',\n",
       " 'named',\n",
       " '*-1',\n",
       " 'this',\n",
       " 'British',\n",
       " 'industrial',\n",
       " 'conglomerate',\n",
       " 'A',\n",
       " 'form',\n",
       " 'asbestos',\n",
       " 'once',\n",
       " 'used',\n",
       " '*',\n",
       " 'to',\n",
       " 'make',\n",
       " 'Kent',\n",
       " 'cigarette',\n",
       " 'filters',\n",
       " 'has',\n",
       " 'caused',\n",
       " 'high',\n",
       " 'percentage',\n",
       " 'cancer',\n",
       " 'deaths',\n",
       " 'among',\n",
       " 'workers',\n",
       " 'exposed',\n",
       " 'it',\n",
       " 'more',\n",
       " 'than',\n",
       " '30',\n",
       " 'ago',\n",
       " 'researchers',\n",
       " 'reported',\n",
       " '0',\n",
       " '*T*-1',\n",
       " 'The',\n",
       " 'fiber',\n",
       " 'crocidolite',\n",
       " 'unusually',\n",
       " 'resilient',\n",
       " 'enters',\n",
       " 'lungs',\n",
       " 'with',\n",
       " 'even',\n",
       " 'brief',\n",
       " 'exposures',\n",
       " 'causing',\n",
       " 'symptoms',\n",
       " 'that',\n",
       " 'show',\n",
       " 'up',\n",
       " 'decades',\n",
       " 'later',\n",
       " 'said',\n",
       " '*T*-2',\n",
       " 'Lorillard',\n",
       " 'Inc.',\n",
       " 'unit',\n",
       " 'New',\n",
       " 'York-based',\n",
       " 'Loews',\n",
       " 'Corp.',\n",
       " 'makes',\n",
       " 'cigarettes',\n",
       " 'stopped',\n",
       " 'using',\n",
       " 'in',\n",
       " 'its',\n",
       " 'Micronite',\n",
       " '1956',\n",
       " 'Although',\n",
       " 'preliminary',\n",
       " 'findings',\n",
       " 'were',\n",
       " '*-2',\n",
       " 'year',\n",
       " 'latest',\n",
       " 'results',\n",
       " 'appear',\n",
       " 'today',\n",
       " \"'s\",\n",
       " 'England',\n",
       " 'Journal',\n",
       " 'Medicine',\n",
       " 'forum',\n",
       " 'likely',\n",
       " 'bring',\n",
       " 'new',\n",
       " 'attention',\n",
       " 'problem',\n",
       " 'spokewoman',\n",
       " '``',\n",
       " 'This',\n",
       " 'an',\n",
       " 'story',\n",
       " 'We',\n",
       " \"'re\",\n",
       " 'talking',\n",
       " 'about',\n",
       " 'before',\n",
       " 'anyone',\n",
       " 'heard',\n",
       " 'having',\n",
       " 'any',\n",
       " 'questionable',\n",
       " 'properties',\n",
       " 'There',\n",
       " 'no',\n",
       " 'our',\n",
       " 'products',\n",
       " 'now',\n",
       " \"''\",\n",
       " 'Neither',\n",
       " 'nor',\n",
       " 'who',\n",
       " '*T*-3',\n",
       " 'studied',\n",
       " 'aware',\n",
       " 'research',\n",
       " 'on',\n",
       " 'smokers',\n",
       " 'have',\n",
       " 'useful',\n",
       " 'information',\n",
       " 'whether',\n",
       " 'users',\n",
       " 'are',\n",
       " 'at',\n",
       " 'risk',\n",
       " 'James',\n",
       " 'A.',\n",
       " 'Talcott',\n",
       " 'Boston',\n",
       " 'Dana-Farber',\n",
       " 'Cancer',\n",
       " 'Institute',\n",
       " 'Dr.',\n",
       " 'led',\n",
       " 'team',\n",
       " 'from',\n",
       " 'National',\n",
       " 'medical',\n",
       " 'schools',\n",
       " 'Harvard',\n",
       " 'University',\n",
       " 'spokeswoman',\n",
       " 'very',\n",
       " 'modest',\n",
       " 'amounts',\n",
       " 'making',\n",
       " 'paper',\n",
       " 'for',\n",
       " 'early',\n",
       " '1950s',\n",
       " 'replaced',\n",
       " 'different',\n",
       " 'type',\n",
       " 'filter',\n",
       " 'From',\n",
       " '1953',\n",
       " '1955',\n",
       " '9.8',\n",
       " 'billion',\n",
       " 'sold',\n",
       " '*-3',\n",
       " 'company',\n",
       " 'Among',\n",
       " '33',\n",
       " 'men',\n",
       " '*T*-4',\n",
       " 'worked',\n",
       " 'closely',\n",
       " 'substance',\n",
       " '28',\n",
       " '*ICH*-1',\n",
       " 'died',\n",
       " '--',\n",
       " 'three',\n",
       " 'times',\n",
       " 'expected',\n",
       " 'number',\n",
       " 'Four',\n",
       " 'five',\n",
       " 'surviving',\n",
       " 'asbestos-related',\n",
       " 'diseases',\n",
       " 'including',\n",
       " 'recently',\n",
       " 'diagnosed',\n",
       " 'total',\n",
       " '18',\n",
       " 'malignant',\n",
       " 'mesothelioma',\n",
       " 'lung',\n",
       " 'asbestosis',\n",
       " 'far',\n",
       " 'higher',\n",
       " '*?*',\n",
       " 'morbidity',\n",
       " 'rate',\n",
       " 'striking',\n",
       " 'finding',\n",
       " 'those',\n",
       " 'us',\n",
       " '*T*-5',\n",
       " 'study',\n",
       " 'West',\n",
       " 'Groton',\n",
       " 'Mass.',\n",
       " 'factory',\n",
       " 'appears',\n",
       " 'be',\n",
       " 'highest',\n",
       " 'Western',\n",
       " 'industrialized',\n",
       " 'countries',\n",
       " 'he',\n",
       " 'plant',\n",
       " 'which',\n",
       " 'owned',\n",
       " '*-4',\n",
       " 'by',\n",
       " 'Hollingsworth',\n",
       " '&',\n",
       " 'Vose',\n",
       " 'Co.',\n",
       " 'under',\n",
       " 'contract',\n",
       " '*ICH*-2',\n",
       " 'probably',\n",
       " 'support',\n",
       " '*T*-6',\n",
       " 'argue',\n",
       " 'U.S.',\n",
       " 'should',\n",
       " 'regulate',\n",
       " 'class',\n",
       " 'stringently',\n",
       " 'common',\n",
       " 'kind',\n",
       " 'chrysotile',\n",
       " 'found',\n",
       " 'most',\n",
       " 'other',\n",
       " 'buildings',\n",
       " 'one',\n",
       " 'few',\n",
       " 'nations',\n",
       " '*T*-7',\n",
       " 'does',\n",
       " \"n't\",\n",
       " 'standard',\n",
       " 'regulation',\n",
       " 'smooth',\n",
       " 'needle-like',\n",
       " 'fibers',\n",
       " 'such',\n",
       " 'classified',\n",
       " '*-5',\n",
       " 'amphobiles',\n",
       " 'according',\n",
       " 'Brooke',\n",
       " 'T.',\n",
       " 'Mossman',\n",
       " 'professor',\n",
       " 'pathlogy',\n",
       " 'Vermont',\n",
       " 'College',\n",
       " 'More',\n",
       " 'curly',\n",
       " 'easily',\n",
       " 'rejected',\n",
       " 'body',\n",
       " 'explained',\n",
       " 'In',\n",
       " 'July',\n",
       " 'Environmental',\n",
       " 'Protection',\n",
       " 'Agency',\n",
       " 'imposed',\n",
       " 'gradual',\n",
       " 'ban',\n",
       " 'virtually',\n",
       " 'all',\n",
       " 'uses',\n",
       " 'By',\n",
       " '1997',\n",
       " 'almost',\n",
       " 'remaining',\n",
       " 'cancer-causing',\n",
       " 'outlawed',\n",
       " '*-6',\n",
       " 'About',\n",
       " '160',\n",
       " '*T*-8',\n",
       " 'made',\n",
       " '*-7',\n",
       " 'Areas',\n",
       " 'particularly',\n",
       " 'dusty',\n",
       " 'where',\n",
       " '*-8',\n",
       " 'Workers',\n",
       " 'dumped',\n",
       " 'large',\n",
       " 'burlap',\n",
       " 'sacks',\n",
       " 'imported',\n",
       " 'material',\n",
       " 'into',\n",
       " 'huge',\n",
       " 'bin',\n",
       " 'poured',\n",
       " 'cotton',\n",
       " 'acetate',\n",
       " 'mechanically',\n",
       " 'mixed',\n",
       " 'dry',\n",
       " 'process',\n",
       " 'described',\n",
       " 'clouds',\n",
       " 'blue',\n",
       " 'dust',\n",
       " 'hung',\n",
       " 'over',\n",
       " 'parts',\n",
       " 'though',\n",
       " 'exhaust',\n",
       " 'fans',\n",
       " 'ventilated',\n",
       " 'area',\n",
       " 'question',\n",
       " 'some',\n",
       " 'managers',\n",
       " 'contracted',\n",
       " 'Darrell',\n",
       " 'Phillips',\n",
       " 'vice',\n",
       " 'president',\n",
       " 'human',\n",
       " 'resources',\n",
       " 'But',\n",
       " 'you',\n",
       " 'recognize',\n",
       " 'these',\n",
       " 'events',\n",
       " 'took',\n",
       " 'place',\n",
       " '35',\n",
       " 'It',\n",
       " 'bearing',\n",
       " 'work',\n",
       " 'force',\n",
       " 'Yields',\n",
       " 'money-market',\n",
       " 'mutual',\n",
       " 'funds',\n",
       " 'continued',\n",
       " 'slide',\n",
       " 'amid',\n",
       " 'signs',\n",
       " 'portfolio',\n",
       " 'expect',\n",
       " 'further',\n",
       " 'declines',\n",
       " 'interest',\n",
       " 'rates',\n",
       " 'average',\n",
       " 'seven-day',\n",
       " 'compound',\n",
       " 'yield',\n",
       " '400',\n",
       " 'taxable',\n",
       " 'tracked',\n",
       " 'IBC',\n",
       " 'Money',\n",
       " 'Fund',\n",
       " 'Report',\n",
       " 'eased',\n",
       " 'fraction',\n",
       " 'point',\n",
       " '8.45',\n",
       " '%',\n",
       " '8.47',\n",
       " 'week',\n",
       " 'ended',\n",
       " 'Tuesday',\n",
       " 'Compound',\n",
       " 'yields',\n",
       " 'assume',\n",
       " 'reinvestment',\n",
       " 'dividends',\n",
       " 'current',\n",
       " 'continues',\n",
       " 'Average',\n",
       " 'maturity',\n",
       " \"'\",\n",
       " 'investments',\n",
       " 'lengthened',\n",
       " 'day',\n",
       " '41',\n",
       " 'days',\n",
       " 'longest',\n",
       " 'since',\n",
       " 'August',\n",
       " 'Donoghue',\n",
       " 'Longer',\n",
       " 'maturities',\n",
       " 'thought',\n",
       " 'indicate',\n",
       " 'declining',\n",
       " 'because',\n",
       " 'they',\n",
       " 'permit',\n",
       " 'retain',\n",
       " 'relatively',\n",
       " 'longer',\n",
       " 'period',\n",
       " 'Shorter',\n",
       " 'considered',\n",
       " '*-9',\n",
       " 'sign',\n",
       " 'rising',\n",
       " 'can',\n",
       " 'capture',\n",
       " 'sooner',\n",
       " 'open',\n",
       " 'only',\n",
       " 'institutions',\n",
       " 'stronger',\n",
       " 'indicator',\n",
       " 'watch',\n",
       " 'market',\n",
       " 'reached',\n",
       " 'Nevertheless',\n",
       " 'Brenda',\n",
       " 'Malizia',\n",
       " 'Negus',\n",
       " 'editor',\n",
       " 'may',\n",
       " 'blip',\n",
       " 'again',\n",
       " 'down',\n",
       " 'recent',\n",
       " 'rises',\n",
       " 'short-term',\n",
       " 'six-month',\n",
       " 'Treasury',\n",
       " 'bills',\n",
       " 'Monday',\n",
       " 'auction',\n",
       " 'example',\n",
       " 'rose',\n",
       " '8.04',\n",
       " '7.90',\n",
       " 'Despite',\n",
       " 'investors',\n",
       " 'continue',\n",
       " 'pour',\n",
       " 'cash',\n",
       " 'money',\n",
       " 'Assets',\n",
       " 'grew',\n",
       " '$',\n",
       " '1.5',\n",
       " '*U*',\n",
       " 'during',\n",
       " '352.7',\n",
       " 'Typically',\n",
       " 'money-fund',\n",
       " 'beat',\n",
       " 'comparable',\n",
       " 'vary',\n",
       " 'go',\n",
       " 'after',\n",
       " 'top',\n",
       " 'currently',\n",
       " 'yielding',\n",
       " 'well',\n",
       " '9',\n",
       " 'Dreyfus',\n",
       " 'World-Wide',\n",
       " 'Dollar',\n",
       " 'top-yielding',\n",
       " 'fund',\n",
       " 'had',\n",
       " '9.37',\n",
       " '9.45',\n",
       " 'earlier',\n",
       " 'invests',\n",
       " 'heavily',\n",
       " 'dollar-denominated',\n",
       " 'securities',\n",
       " 'overseas',\n",
       " 'waiving',\n",
       " 'management',\n",
       " 'fees',\n",
       " '*T*-9',\n",
       " 'boosts',\n",
       " 'simple',\n",
       " '8.12',\n",
       " '8.14',\n",
       " '30-day',\n",
       " 'fell',\n",
       " '8.19',\n",
       " '8.22',\n",
       " ';',\n",
       " 'slid',\n",
       " '8.53',\n",
       " '8.56',\n",
       " 'J.P.',\n",
       " 'Bolduc',\n",
       " 'W.R.',\n",
       " 'Grace',\n",
       " '*T*-10',\n",
       " 'holds',\n",
       " '83.4',\n",
       " 'energy-services',\n",
       " 'elected',\n",
       " '*-10',\n",
       " 'He',\n",
       " 'succeeds',\n",
       " 'Terrence',\n",
       " 'D.',\n",
       " 'Daniels',\n",
       " 'formerly',\n",
       " '*T*-11',\n",
       " 'resigned',\n",
       " 'Energy',\n",
       " 'seven',\n",
       " 'seats',\n",
       " 'Pacific',\n",
       " 'First',\n",
       " 'Financial',\n",
       " 'shareholders',\n",
       " 'approved',\n",
       " 'acquisition',\n",
       " 'Royal',\n",
       " 'Trustco',\n",
       " 'Ltd.',\n",
       " 'Toronto',\n",
       " '27',\n",
       " 'share',\n",
       " 'or',\n",
       " '212',\n",
       " 'million',\n",
       " 'thrift',\n",
       " 'holding',\n",
       " 'expects',\n",
       " 'obtain',\n",
       " 'regulatory',\n",
       " 'approval',\n",
       " 'complete',\n",
       " 'transaction',\n",
       " 'year-end',\n",
       " 'McDermott',\n",
       " 'International',\n",
       " 'Babcock',\n",
       " 'Wilcox',\n",
       " 'completed',\n",
       " 'sale',\n",
       " 'Bailey',\n",
       " 'Controls',\n",
       " 'Operations',\n",
       " 'Finmeccanica',\n",
       " 'S.p',\n",
       " '295',\n",
       " 'Italian',\n",
       " 'state-owned',\n",
       " 'interests',\n",
       " 'mechanical',\n",
       " 'engineering',\n",
       " 'industry',\n",
       " 'based',\n",
       " 'Wickliffe',\n",
       " 'Ohio',\n",
       " 'computerized',\n",
       " 'controls',\n",
       " 'systems',\n",
       " 'employs',\n",
       " '2,700',\n",
       " 'people',\n",
       " 'annual',\n",
       " 'revenue',\n",
       " '370',\n",
       " 'federal',\n",
       " 'government',\n",
       " 'suspended',\n",
       " 'sales',\n",
       " 'savings',\n",
       " 'bonds',\n",
       " 'Congress',\n",
       " 'lifted',\n",
       " 'ceiling',\n",
       " 'debt',\n",
       " 'Until',\n",
       " 'acts',\n",
       " 'authority',\n",
       " 'issue',\n",
       " 'obligations',\n",
       " 'borrowing',\n",
       " 'dropped',\n",
       " 'midnight',\n",
       " '2.80',\n",
       " 'trillion',\n",
       " '2.87',\n",
       " 'Legislation',\n",
       " 'lift',\n",
       " 'ensnarled',\n",
       " '*-11',\n",
       " 'fight',\n",
       " 'cutting',\n",
       " 'capital-gains',\n",
       " 'taxes',\n",
       " 'House',\n",
       " 'voted',\n",
       " 'raise',\n",
       " '3.1',\n",
       " 'but',\n",
       " 'Senate',\n",
       " 'act',\n",
       " 'until',\n",
       " 'next',\n",
       " 'earliest',\n",
       " 'default',\n",
       " 'if',\n",
       " 'then',\n",
       " 'Clark',\n",
       " 'J.',\n",
       " 'Vitulli',\n",
       " '*-12',\n",
       " 'senior',\n",
       " '*RNR*-1',\n",
       " 'general',\n",
       " 'manager',\n",
       " 'marketing',\n",
       " 'arm',\n",
       " 'Japanese',\n",
       " 'auto',\n",
       " 'maker',\n",
       " 'Mazda',\n",
       " 'Motor',\n",
       " 'Corp',\n",
       " 'position',\n",
       " 'oversee',\n",
       " 'service',\n",
       " 'operations',\n",
       " 'Previously',\n",
       " '43',\n",
       " 'Chrysler',\n",
       " 'division',\n",
       " 'been',\n",
       " 'executive',\n",
       " '20',\n",
       " 'When',\n",
       " 'time',\n",
       " 'their',\n",
       " 'biannual',\n",
       " 'powwow',\n",
       " 'nation',\n",
       " 'manufacturing',\n",
       " 'titans',\n",
       " 'typically',\n",
       " 'jet',\n",
       " 'off',\n",
       " 'sunny',\n",
       " 'confines',\n",
       " 'resort',\n",
       " 'towns',\n",
       " 'like',\n",
       " 'Boca',\n",
       " 'Raton',\n",
       " 'Hot',\n",
       " 'Springs',\n",
       " 'Not',\n",
       " 'Association',\n",
       " 'Manufacturers',\n",
       " 'settled',\n",
       " 'Hoosier',\n",
       " 'capital',\n",
       " 'Indianapolis',\n",
       " 'fall',\n",
       " 'meeting',\n",
       " 'And',\n",
       " 'city',\n",
       " 'decided',\n",
       " 'treat',\n",
       " 'guests',\n",
       " 'royalty',\n",
       " 'rock',\n",
       " 'stars',\n",
       " 'owners',\n",
       " 'idea',\n",
       " 'course',\n",
       " ':',\n",
       " 'prove',\n",
       " '125',\n",
       " 'corporate',\n",
       " 'decision',\n",
       " 'makers',\n",
       " 'buckle',\n",
       " 'Rust',\n",
       " 'Belt',\n",
       " 'so',\n",
       " 'rusty',\n",
       " 'good',\n",
       " 'expand',\n",
       " 'On',\n",
       " 'receiving',\n",
       " 'end',\n",
       " 'message',\n",
       " 'officials',\n",
       " 'giants',\n",
       " 'Du',\n",
       " 'Pont',\n",
       " 'Maytag',\n",
       " 'along',\n",
       " 'lesser',\n",
       " 'knowns',\n",
       " 'Trojan',\n",
       " 'Steel',\n",
       " 'Valley',\n",
       " 'Queen',\n",
       " 'Cheese',\n",
       " 'Factory',\n",
       " 'For',\n",
       " 'starters',\n",
       " 'executives',\n",
       " 'joined',\n",
       " 'Mayor',\n",
       " 'William',\n",
       " 'H.',\n",
       " 'Hudnut',\n",
       " 'III',\n",
       " 'evening',\n",
       " 'Symphony',\n",
       " 'Orchestra',\n",
       " 'guest',\n",
       " 'pianist-comedian',\n",
       " 'Victor',\n",
       " 'Borge',\n",
       " 'Champagne',\n",
       " 'dessert',\n",
       " 'followed',\n",
       " 'morning',\n",
       " 'police',\n",
       " 'escort',\n",
       " 'busloads',\n",
       " 'wives',\n",
       " 'raced',\n",
       " 'Speedway',\n",
       " 'unimpeded',\n",
       " 'traffic',\n",
       " 'red',\n",
       " 'lights',\n",
       " 'governor',\n",
       " 'could',\n",
       " 'lieutenant',\n",
       " 'welcomed',\n",
       " 'special',\n",
       " 'buffet',\n",
       " 'breakfast',\n",
       " 'held',\n",
       " 'museum',\n",
       " 'food',\n",
       " 'drinks',\n",
       " 'banned',\n",
       " 'everyday',\n",
       " 'visitors',\n",
       " 'Then',\n",
       " 'honor',\n",
       " 'speedway',\n",
       " 'hauled',\n",
       " 'out',\n",
       " 'four',\n",
       " 'drivers',\n",
       " 'crews',\n",
       " 'official',\n",
       " '500',\n",
       " 'announcer',\n",
       " '10-lap',\n",
       " 'exhibition',\n",
       " 'race',\n",
       " 'After',\n",
       " 'Fortune',\n",
       " 'drooled',\n",
       " 'schoolboys',\n",
       " 'cars',\n",
       " 'No',\n",
       " 'dummies',\n",
       " 'pointed',\n",
       " 'still',\n",
       " 'space',\n",
       " 'machines',\n",
       " 'another',\n",
       " 'sponsor',\n",
       " 'name',\n",
       " 'two',\n",
       " 'Back',\n",
       " 'downtown',\n",
       " 'execs',\n",
       " 'squeezed',\n",
       " 'meetings',\n",
       " 'hotel',\n",
       " 'boarding',\n",
       " 'buses',\n",
       " 'dinner',\n",
       " 'dancing',\n",
       " 'block',\n",
       " 'away',\n",
       " 'Under',\n",
       " 'moons',\n",
       " 'renovated',\n",
       " 'Indiana',\n",
       " 'Roof',\n",
       " 'ballroom',\n",
       " 'nine',\n",
       " 'hottest',\n",
       " 'chefs',\n",
       " 'town',\n",
       " 'fed',\n",
       " 'them',\n",
       " 'duckling',\n",
       " 'mousseline',\n",
       " 'lobster',\n",
       " 'consomme',\n",
       " 'veal',\n",
       " 'mignon',\n",
       " 'chocolate',\n",
       " 'terrine',\n",
       " 'raspberry',\n",
       " 'sauce',\n",
       " 'Knowing',\n",
       " 'tasty',\n",
       " 'free',\n",
       " 'meal',\n",
       " 'when',\n",
       " 'eat',\n",
       " 'gave',\n",
       " 'standing',\n",
       " 'ovation',\n",
       " 'CEOs',\n",
       " 'say',\n",
       " 'red-carpet',\n",
       " 'treatment',\n",
       " 'tempts',\n",
       " 'return',\n",
       " 'heartland',\n",
       " 'future',\n",
       " 'looking',\n",
       " 'forward',\n",
       " 'winter',\n",
       " 'February',\n",
       " 'South',\n",
       " 'Korea',\n",
       " 'registered',\n",
       " 'trade',\n",
       " 'deficit',\n",
       " '101',\n",
       " 'October',\n",
       " 'reflecting',\n",
       " 'country',\n",
       " 'economic',\n",
       " 'sluggishness',\n",
       " 'figures',\n",
       " 'released',\n",
       " 'Wednesday',\n",
       " 'Preliminary',\n",
       " 'tallies',\n",
       " 'Trade',\n",
       " 'Industry',\n",
       " 'Ministry',\n",
       " 'showed',\n",
       " 'fifth',\n",
       " 'monthly',\n",
       " 'setback',\n",
       " 'casting',\n",
       " 'cloud',\n",
       " 'export-oriented',\n",
       " 'economy',\n",
       " 'Exports',\n",
       " 'stood',\n",
       " '5.29',\n",
       " 'mere',\n",
       " '0.7',\n",
       " 'increase',\n",
       " 'while',\n",
       " 'imports',\n",
       " 'increased',\n",
       " 'sharply',\n",
       " '5.39',\n",
       " 'last',\n",
       " 'boom',\n",
       " '*T*-12',\n",
       " 'began',\n",
       " '1986',\n",
       " 'prolonged',\n",
       " 'labor',\n",
       " 'disputes',\n",
       " 'conflicts',\n",
       " 'sluggish',\n",
       " 'exports',\n",
       " 'Government',\n",
       " 'would',\n",
       " 'remain',\n",
       " 'target',\n",
       " '68',\n",
       " 'gloomy',\n",
       " 'forecast',\n",
       " 'recorded',\n",
       " 'surplus',\n",
       " '71',\n",
       " 'January',\n",
       " 'accumulated',\n",
       " '4',\n",
       " 'same',\n",
       " '50.45',\n",
       " 'Imports',\n",
       " '50.38',\n",
       " '19',\n",
       " 'Newsweek',\n",
       " 'trying',\n",
       " 'keep',\n",
       " 'pace',\n",
       " 'rival',\n",
       " 'Time',\n",
       " 'magazine',\n",
       " 'announced',\n",
       " 'advertising',\n",
       " '1990',\n",
       " 'introduce',\n",
       " 'incentive',\n",
       " 'plan',\n",
       " 'advertisers',\n",
       " 'ad',\n",
       " 'Washington',\n",
       " 'Post',\n",
       " 'second',\n",
       " 'offered',\n",
       " 'Plans',\n",
       " '*T*-13',\n",
       " 'give',\n",
       " 'discounts',\n",
       " 'maintaining',\n",
       " 'increasing',\n",
       " 'spending',\n",
       " 'become',\n",
       " 'permanent',\n",
       " 'fixtures',\n",
       " 'news',\n",
       " 'weeklies',\n",
       " 'underscore',\n",
       " 'fierce',\n",
       " 'competition',\n",
       " 'between',\n",
       " 'Warner',\n",
       " 'Mortimer',\n",
       " 'B.',\n",
       " 'Zuckerman',\n",
       " 'News',\n",
       " 'World',\n",
       " 'Alan',\n",
       " 'Spoon',\n",
       " '5',\n",
       " ...]"
      ]
     },
     "execution_count": 10,
     "metadata": {},
     "output_type": "execute_result"
    }
   ],
   "source": [
    "vocab1 = dist.keys()\n",
    "#vocab1[:10] \n",
    "# In Python 3 dict.keys() returns an iterable view instead of a list\n",
    "list(vocab1)[:10]\n",
    "list(vocab1)"
   ]
  },
  {
   "cell_type": "code",
   "execution_count": 11,
   "metadata": {},
   "outputs": [
    {
     "data": {
      "text/plain": [
       "20"
      ]
     },
     "execution_count": 11,
     "metadata": {},
     "output_type": "execute_result"
    }
   ],
   "source": [
    "dist['four']"
   ]
  },
  {
   "cell_type": "code",
   "execution_count": 12,
   "metadata": {},
   "outputs": [
    {
     "data": {
      "text/plain": [
       "['billion',\n",
       " 'company',\n",
       " 'president',\n",
       " 'because',\n",
       " 'market',\n",
       " 'million',\n",
       " 'shares',\n",
       " 'trading',\n",
       " 'program']"
      ]
     },
     "execution_count": 12,
     "metadata": {},
     "output_type": "execute_result"
    }
   ],
   "source": [
    "freqwords = [w for w in vocab1 if len(w) > 5 and dist[w] > 100]\n",
    "freqwords"
   ]
  },
  {
   "cell_type": "markdown",
   "metadata": {},
   "source": [
    "### Normalization and stemming"
   ]
  },
  {
   "cell_type": "code",
   "execution_count": 22,
   "metadata": {},
   "outputs": [
    {
     "data": {
      "text/plain": [
       "['list', 'listed', 'lists', 'listing', 'listings']"
      ]
     },
     "execution_count": 22,
     "metadata": {},
     "output_type": "execute_result"
    }
   ],
   "source": [
    "input1 = \"List listed lists listing listings\"\n",
    "words1 = input1.lower().split(' ')\n",
    "words1"
   ]
  },
  {
   "cell_type": "code",
   "execution_count": 23,
   "metadata": {},
   "outputs": [
    {
     "data": {
      "text/plain": [
       "['list', 'list', 'list', 'list', 'list']"
      ]
     },
     "execution_count": 23,
     "metadata": {},
     "output_type": "execute_result"
    }
   ],
   "source": [
    "porter = nltk.PorterStemmer()\n",
    "[porter.stem(t) for t in words1]"
   ]
  },
  {
   "cell_type": "markdown",
   "metadata": {},
   "source": [
    "### Lemmatization"
   ]
  },
  {
   "cell_type": "code",
   "execution_count": 26,
   "metadata": {},
   "outputs": [
    {
     "data": {
      "text/plain": [
       "['Universal',\n",
       " 'Declaration',\n",
       " 'of',\n",
       " 'Human',\n",
       " 'Rights',\n",
       " 'Preamble',\n",
       " 'Whereas',\n",
       " 'recognition',\n",
       " 'of',\n",
       " 'the',\n",
       " 'inherent',\n",
       " 'dignity',\n",
       " 'and',\n",
       " 'of',\n",
       " 'the',\n",
       " 'equal',\n",
       " 'and',\n",
       " 'inalienable',\n",
       " 'rights',\n",
       " 'of']"
      ]
     },
     "execution_count": 26,
     "metadata": {},
     "output_type": "execute_result"
    }
   ],
   "source": [
    "udhr = nltk.corpus.udhr.words('English-Latin1')\n",
    "udhr[:20]"
   ]
  },
  {
   "cell_type": "code",
   "execution_count": 24,
   "metadata": {},
   "outputs": [
    {
     "data": {
      "text/plain": [
       "['univers',\n",
       " 'declar',\n",
       " 'of',\n",
       " 'human',\n",
       " 'right',\n",
       " 'preambl',\n",
       " 'wherea',\n",
       " 'recognit',\n",
       " 'of',\n",
       " 'the',\n",
       " 'inher',\n",
       " 'digniti',\n",
       " 'and',\n",
       " 'of',\n",
       " 'the',\n",
       " 'equal',\n",
       " 'and',\n",
       " 'inalien',\n",
       " 'right',\n",
       " 'of']"
      ]
     },
     "execution_count": 24,
     "metadata": {},
     "output_type": "execute_result"
    }
   ],
   "source": [
    "[porter.stem(t) for t in udhr[:20]] # Still Lemmatization"
   ]
  },
  {
   "cell_type": "code",
   "execution_count": 25,
   "metadata": {},
   "outputs": [
    {
     "data": {
      "text/plain": [
       "['Universal',\n",
       " 'Declaration',\n",
       " 'of',\n",
       " 'Human',\n",
       " 'Rights',\n",
       " 'Preamble',\n",
       " 'Whereas',\n",
       " 'recognition',\n",
       " 'of',\n",
       " 'the',\n",
       " 'inherent',\n",
       " 'dignity',\n",
       " 'and',\n",
       " 'of',\n",
       " 'the',\n",
       " 'equal',\n",
       " 'and',\n",
       " 'inalienable',\n",
       " 'right',\n",
       " 'of']"
      ]
     },
     "execution_count": 25,
     "metadata": {},
     "output_type": "execute_result"
    }
   ],
   "source": [
    "WNlemma = nltk.WordNetLemmatizer()\n",
    "[WNlemma.lemmatize(t) for t in udhr[:20]]"
   ]
  },
  {
   "cell_type": "markdown",
   "metadata": {},
   "source": [
    "### Tokenization"
   ]
  },
  {
   "cell_type": "code",
   "execution_count": 28,
   "metadata": {},
   "outputs": [
    {
     "data": {
      "text/plain": [
       "['Children', \"shouldn't\", 'drink', 'a', 'sugary', 'drink', 'before', 'bed.']"
      ]
     },
     "execution_count": 28,
     "metadata": {},
     "output_type": "execute_result"
    }
   ],
   "source": [
    "text11 = \"Children shouldn't drink a sugary drink before bed.\"\n",
    "text11.split(' ')"
   ]
  },
  {
   "cell_type": "code",
   "execution_count": 29,
   "metadata": {},
   "outputs": [
    {
     "data": {
      "text/plain": [
       "['Children',\n",
       " 'should',\n",
       " \"n't\",\n",
       " 'drink',\n",
       " 'a',\n",
       " 'sugary',\n",
       " 'drink',\n",
       " 'before',\n",
       " 'bed',\n",
       " '.']"
      ]
     },
     "execution_count": 29,
     "metadata": {},
     "output_type": "execute_result"
    }
   ],
   "source": [
    "nltk.word_tokenize(text11)"
   ]
  },
  {
   "cell_type": "code",
   "execution_count": 30,
   "metadata": {},
   "outputs": [
    {
     "data": {
      "text/plain": [
       "4"
      ]
     },
     "execution_count": 30,
     "metadata": {},
     "output_type": "execute_result"
    }
   ],
   "source": [
    "text12 = \"This is the first sentence. A gallon of milk in the U.S. costs $2.99. Is this the third sentence? Yes, it is!\"\n",
    "sentences = nltk.sent_tokenize(text12)\n",
    "len(sentences)"
   ]
  },
  {
   "cell_type": "code",
   "execution_count": 31,
   "metadata": {},
   "outputs": [
    {
     "data": {
      "text/plain": [
       "['This is the first sentence.',\n",
       " 'A gallon of milk in the U.S. costs $2.99.',\n",
       " 'Is this the third sentence?',\n",
       " 'Yes, it is!']"
      ]
     },
     "execution_count": 31,
     "metadata": {},
     "output_type": "execute_result"
    }
   ],
   "source": [
    "sentences"
   ]
  },
  {
   "cell_type": "markdown",
   "metadata": {},
   "source": [
    "## Advanced NLP Tasks with NLTK"
   ]
  },
  {
   "cell_type": "markdown",
   "metadata": {},
   "source": [
    "### POS tagging"
   ]
  },
  {
   "cell_type": "code",
   "execution_count": 33,
   "metadata": {},
   "outputs": [
    {
     "name": "stdout",
     "output_type": "stream",
     "text": [
      "MD: modal auxiliary\n",
      "    can cannot could couldn't dare may might must need ought shall should\n",
      "    shouldn't will would\n"
     ]
    }
   ],
   "source": [
    "nltk.help.upenn_tagset('MD')"
   ]
  },
  {
   "cell_type": "code",
   "execution_count": 34,
   "metadata": {},
   "outputs": [
    {
     "data": {
      "text/plain": [
       "[('Children', 'NNP'),\n",
       " ('should', 'MD'),\n",
       " (\"n't\", 'RB'),\n",
       " ('drink', 'VB'),\n",
       " ('a', 'DT'),\n",
       " ('sugary', 'JJ'),\n",
       " ('drink', 'NN'),\n",
       " ('before', 'IN'),\n",
       " ('bed', 'NN'),\n",
       " ('.', '.')]"
      ]
     },
     "execution_count": 34,
     "metadata": {},
     "output_type": "execute_result"
    }
   ],
   "source": [
    "text13 = nltk.word_tokenize(text11)\n",
    "nltk.pos_tag(text13)"
   ]
  },
  {
   "cell_type": "code",
   "execution_count": 35,
   "metadata": {},
   "outputs": [
    {
     "data": {
      "text/plain": [
       "[('Visiting', 'VBG'),\n",
       " ('aunts', 'NNS'),\n",
       " ('can', 'MD'),\n",
       " ('be', 'VB'),\n",
       " ('a', 'DT'),\n",
       " ('nuisance', 'NN')]"
      ]
     },
     "execution_count": 35,
     "metadata": {},
     "output_type": "execute_result"
    }
   ],
   "source": [
    "text14 = nltk.word_tokenize(\"Visiting aunts can be a nuisance\")\n",
    "nltk.pos_tag(text14)"
   ]
  },
  {
   "cell_type": "code",
   "execution_count": 37,
   "metadata": {},
   "outputs": [
    {
     "name": "stdout",
     "output_type": "stream",
     "text": [
      "(S (NP Alice) (VP (V loves) (NP Bob)))\n"
     ]
    }
   ],
   "source": [
    "# Parsing sentence structure\n",
    "text15 = nltk.word_tokenize(\"Alice loves Bob\")\n",
    "grammar = nltk.CFG.fromstring(\"\"\"\n",
    "S -> NP VP\n",
    "VP -> V NP\n",
    "NP -> 'Alice' | 'Bob'\n",
    "V -> 'loves'\n",
    "\"\"\")\n",
    "\n",
    "parser = nltk.ChartParser(grammar)\n",
    "trees = parser.parse_all(text15)\n",
    "for tree in trees:\n",
    "    print(tree)"
   ]
  },
  {
   "cell_type": "code",
   "execution_count": 40,
   "metadata": {},
   "outputs": [
    {
     "data": {
      "text/plain": [
       "<Grammar with 13 productions>"
      ]
     },
     "execution_count": 40,
     "metadata": {},
     "output_type": "execute_result"
    }
   ],
   "source": [
    "text16 = nltk.word_tokenize(\"I saw the man with a telescope\")\n",
    "grammar1 = nltk.data.load('mygrammar.cfg')\n",
    "grammar1"
   ]
  },
  {
   "cell_type": "code",
   "execution_count": 41,
   "metadata": {},
   "outputs": [
    {
     "name": "stdout",
     "output_type": "stream",
     "text": [
      "(S\n",
      "  (NP I)\n",
      "  (VP\n",
      "    (VP (V saw) (NP (Det the) (N man)))\n",
      "    (PP (P with) (NP (Det a) (N telescope)))))\n",
      "(S\n",
      "  (NP I)\n",
      "  (VP\n",
      "    (V saw)\n",
      "    (NP (Det the) (N man) (PP (P with) (NP (Det a) (N telescope))))))\n"
     ]
    }
   ],
   "source": [
    "parser = nltk.ChartParser(grammar1)\n",
    "trees = parser.parse_all(text16)\n",
    "for tree in trees:\n",
    "    print(tree)"
   ]
  },
  {
   "cell_type": "code",
   "execution_count": 42,
   "metadata": {},
   "outputs": [
    {
     "name": "stdout",
     "output_type": "stream",
     "text": [
      "(S\n",
      "  (NP-SBJ\n",
      "    (NP (NNP Pierre) (NNP Vinken))\n",
      "    (, ,)\n",
      "    (ADJP (NP (CD 61) (NNS years)) (JJ old))\n",
      "    (, ,))\n",
      "  (VP\n",
      "    (MD will)\n",
      "    (VP\n",
      "      (VB join)\n",
      "      (NP (DT the) (NN board))\n",
      "      (PP-CLR (IN as) (NP (DT a) (JJ nonexecutive) (NN director)))\n",
      "      (NP-TMP (NNP Nov.) (CD 29))))\n",
      "  (. .))\n"
     ]
    }
   ],
   "source": [
    "from nltk.corpus import treebank\n",
    "text17 = treebank.parsed_sents('wsj_0001.mrg')[0]\n",
    "print(text17)"
   ]
  },
  {
   "cell_type": "markdown",
   "metadata": {},
   "source": [
    "### POS tagging and parsing ambiguity"
   ]
  },
  {
   "cell_type": "code",
   "execution_count": 43,
   "metadata": {},
   "outputs": [
    {
     "data": {
      "text/plain": [
       "[('The', 'DT'), ('old', 'JJ'), ('man', 'NN'), ('the', 'DT'), ('boat', 'NN')]"
      ]
     },
     "execution_count": 43,
     "metadata": {},
     "output_type": "execute_result"
    }
   ],
   "source": [
    "text18 = nltk.word_tokenize(\"The old man the boat\")\n",
    "nltk.pos_tag(text18)"
   ]
  },
  {
   "cell_type": "code",
   "execution_count": 44,
   "metadata": {},
   "outputs": [
    {
     "data": {
      "text/plain": [
       "[('Colorless', 'NNP'),\n",
       " ('green', 'JJ'),\n",
       " ('ideas', 'NNS'),\n",
       " ('sleep', 'VBP'),\n",
       " ('furiously', 'RB')]"
      ]
     },
     "execution_count": 44,
     "metadata": {},
     "output_type": "execute_result"
    }
   ],
   "source": [
    "text19 = nltk.word_tokenize(\"Colorless green ideas sleep furiously\")\n",
    "nltk.pos_tag(text19)"
   ]
  }
 ],
 "metadata": {
  "kernelspec": {
   "display_name": "Python 3",
   "language": "python",
   "name": "python3"
  },
  "language_info": {
   "codemirror_mode": {
    "name": "ipython",
    "version": 3
   },
   "file_extension": ".py",
   "mimetype": "text/x-python",
   "name": "python",
   "nbconvert_exporter": "python",
   "pygments_lexer": "ipython3",
   "version": "3.6.0"
  }
 },
 "nbformat": 4,
 "nbformat_minor": 2
}
